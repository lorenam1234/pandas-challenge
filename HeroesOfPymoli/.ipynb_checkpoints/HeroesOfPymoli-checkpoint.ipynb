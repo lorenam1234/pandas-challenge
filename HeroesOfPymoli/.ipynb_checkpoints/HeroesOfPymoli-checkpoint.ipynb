{
 "cells": [
  {
   "cell_type": "markdown",
   "id": "e01c500b",
   "metadata": {},
   "source": [
    "### Dependencies and Setup"
   ]
  },
  {
   "cell_type": "code",
   "execution_count": 139,
   "id": "9dde8d11",
   "metadata": {},
   "outputs": [],
   "source": [
    "import os\n",
    "import csv\n",
    "import pandas as pd\n",
    "#import numpy as np\n",
    "\n",
    "#csvpath = os.path.join(\"Resources\",\"purchase_data.csv\")\n",
    "csvpath = \"/Users/lorenamartinez/utsa_boot_camp/homework/4_PandasChallenge/pandas-challenge/Resources/purchase_data.csv\"\n",
    "\n",
    "purchase_data = pd.read_csv(csvpath)"
   ]
  },
  {
   "cell_type": "markdown",
   "id": "c1fb553c",
   "metadata": {},
   "source": [
    "### Player Count"
   ]
  },
  {
   "cell_type": "code",
   "execution_count": 140,
   "id": "127f994a",
   "metadata": {},
   "outputs": [
    {
     "name": "stdout",
     "output_type": "stream",
     "text": [
      "Total number of players: 576\n"
     ]
    }
   ],
   "source": [
    "data_df = pd.DataFrame(purchase_data)\n",
    "players_num =len(pd.unique(data_df['SN']))\n",
    "print(\"Total number of players:\", players_num)"
   ]
  },
  {
   "cell_type": "markdown",
   "id": "fe75a9e4",
   "metadata": {},
   "source": [
    "### Purchasing Analysis (Total)"
   ]
  },
  {
   "cell_type": "code",
   "execution_count": 141,
   "id": "ceff19d9",
   "metadata": {},
   "outputs": [
    {
     "data": {
      "text/html": [
       "<div>\n",
       "<style scoped>\n",
       "    .dataframe tbody tr th:only-of-type {\n",
       "        vertical-align: middle;\n",
       "    }\n",
       "\n",
       "    .dataframe tbody tr th {\n",
       "        vertical-align: top;\n",
       "    }\n",
       "\n",
       "    .dataframe thead th {\n",
       "        text-align: right;\n",
       "    }\n",
       "</style>\n",
       "<table border=\"1\" class=\"dataframe\">\n",
       "  <thead>\n",
       "    <tr style=\"text-align: right;\">\n",
       "      <th></th>\n",
       "      <th>Number of Unique Items</th>\n",
       "      <th>Average Price</th>\n",
       "      <th>Number of Purchases</th>\n",
       "      <th>Total Revenue</th>\n",
       "    </tr>\n",
       "  </thead>\n",
       "  <tbody>\n",
       "    <tr>\n",
       "      <th>0</th>\n",
       "      <td>179</td>\n",
       "      <td>$3.05</td>\n",
       "      <td>780</td>\n",
       "      <td>$2,379.77</td>\n",
       "    </tr>\n",
       "  </tbody>\n",
       "</table>\n",
       "</div>"
      ],
      "text/plain": [
       "   Number of Unique Items Average Price  Number of Purchases Total Revenue\n",
       "0                     179         $3.05                  780     $2,379.77"
      ]
     },
     "execution_count": 141,
     "metadata": {},
     "output_type": "execute_result"
    }
   ],
   "source": [
    "items_num=len(pd.unique(data_df['Item ID']))\n",
    "avg_price = data_df[\"Price\"].mean()\n",
    "avg_price = \"${:,.2f}\".format(avg_price)\n",
    "purchase_num = data_df[\"Purchase ID\"].count()\n",
    "total_revenue = data_df[\"Price\"].sum()\n",
    "total_revenue = \"${:,.2f}\".format(total_revenue)\n",
    "purchase_summary_df = pd.DataFrame({\"Number of Unique Items\":[items_num],\n",
    "                                    \"Average Price\":[avg_price],\n",
    "                                    \"Number of Purchases\":[purchase_num],\n",
    "                                    \"Total Revenue\":[total_revenue]})\n",
    "purchase_summary_df"
   ]
  },
  {
   "cell_type": "markdown",
   "id": "c43998c9",
   "metadata": {},
   "source": [
    "### Gender Demographics"
   ]
  },
  {
   "cell_type": "code",
   "execution_count": 167,
   "id": "685e8663",
   "metadata": {},
   "outputs": [
    {
     "data": {
      "text/html": [
       "<div>\n",
       "<style scoped>\n",
       "    .dataframe tbody tr th:only-of-type {\n",
       "        vertical-align: middle;\n",
       "    }\n",
       "\n",
       "    .dataframe tbody tr th {\n",
       "        vertical-align: top;\n",
       "    }\n",
       "\n",
       "    .dataframe thead th {\n",
       "        text-align: right;\n",
       "    }\n",
       "</style>\n",
       "<table border=\"1\" class=\"dataframe\">\n",
       "  <thead>\n",
       "    <tr style=\"text-align: right;\">\n",
       "      <th></th>\n",
       "      <th>Total Count</th>\n",
       "      <th>Percentage of Players</th>\n",
       "    </tr>\n",
       "  </thead>\n",
       "  <tbody>\n",
       "    <tr>\n",
       "      <th>Male</th>\n",
       "      <td>484</td>\n",
       "      <td>84.027778</td>\n",
       "    </tr>\n",
       "    <tr>\n",
       "      <th>Female</th>\n",
       "      <td>81</td>\n",
       "      <td>14.062500</td>\n",
       "    </tr>\n",
       "    <tr>\n",
       "      <th>Other / Non-Disclosed</th>\n",
       "      <td>11</td>\n",
       "      <td>1.909722</td>\n",
       "    </tr>\n",
       "  </tbody>\n",
       "</table>\n",
       "</div>"
      ],
      "text/plain": [
       "                       Total Count  Percentage of Players\n",
       "Male                           484              84.027778\n",
       "Female                          81              14.062500\n",
       "Other / Non-Disclosed           11               1.909722"
      ]
     },
     "execution_count": 167,
     "metadata": {},
     "output_type": "execute_result"
    }
   ],
   "source": [
    "gender_info= data_df.loc[:, ['Gender','SN']]\n",
    "gender_clean = gender_info.drop_duplicates(['SN'])\n",
    "gender_count = gender_clean[\"Gender\"].value_counts()\n",
    "gender_percentage = gender_count / players_num*100\n",
    "#gender_percentage = \"{:%}\".format(gender_percentage)\n",
    "gender_summary_df = pd.DataFrame({\"Total Count\":gender_count,\n",
    "                                    \"Percentage of Players\":gender_percentage})\n",
    "\n",
    "gender_summary_df\n"
   ]
  },
  {
   "cell_type": "markdown",
   "id": "e80425d2",
   "metadata": {},
   "source": [
    "### Purchasing Analysis (Gender)"
   ]
  },
  {
   "cell_type": "code",
   "execution_count": null,
   "id": "fd592eaa",
   "metadata": {},
   "outputs": [],
   "source": [
    "# purchase count by gender (use gender_info)\n",
    "\n",
    "#average purchase price by gender (use total purchase count)\n",
    "\n",
    "#total purchase value by gender \n",
    "\n",
    "# avg total purchase per person in each gender (use gender count)"
   ]
  },
  {
   "cell_type": "code",
   "execution_count": null,
   "id": "50b19529",
   "metadata": {},
   "outputs": [],
   "source": []
  }
 ],
 "metadata": {
  "kernelspec": {
   "display_name": "Python 3 (ipykernel)",
   "language": "python",
   "name": "python3"
  },
  "language_info": {
   "codemirror_mode": {
    "name": "ipython",
    "version": 3
   },
   "file_extension": ".py",
   "mimetype": "text/x-python",
   "name": "python",
   "nbconvert_exporter": "python",
   "pygments_lexer": "ipython3",
   "version": "3.8.8"
  }
 },
 "nbformat": 4,
 "nbformat_minor": 5
}
