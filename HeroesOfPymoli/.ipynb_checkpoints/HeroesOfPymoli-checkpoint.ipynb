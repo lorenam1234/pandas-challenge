{
 "cells": [
  {
   "cell_type": "markdown",
   "id": "e01c500b",
   "metadata": {},
   "source": [
    "# Dependencies and Setup"
   ]
  },
  {
   "cell_type": "code",
   "execution_count": 1,
   "id": "c36add17",
   "metadata": {},
   "outputs": [],
   "source": [
    "import os\n",
    "import pandas as pd\n",
    "\n",
    "#os.getcwd()\n",
    "#os.chdir(\"/Users/lorenamartinez/utsa_boot_camp/homework/4_PandasChallenge/pandas-challenge/\")\n",
    "#os.getcwd()\n",
    "\n",
    "file_to_load = \"Resources/purchase_data.csv\"\n",
    "purchase_data = pd.read_csv(file_to_load)"
   ]
  },
  {
   "cell_type": "markdown",
   "id": "c1fb553c",
   "metadata": {},
   "source": [
    "# Player Count"
   ]
  },
  {
   "cell_type": "code",
   "execution_count": 2,
   "id": "127f994a",
   "metadata": {},
   "outputs": [
    {
     "data": {
      "text/html": [
       "<div>\n",
       "<style scoped>\n",
       "    .dataframe tbody tr th:only-of-type {\n",
       "        vertical-align: middle;\n",
       "    }\n",
       "\n",
       "    .dataframe tbody tr th {\n",
       "        vertical-align: top;\n",
       "    }\n",
       "\n",
       "    .dataframe thead th {\n",
       "        text-align: right;\n",
       "    }\n",
       "</style>\n",
       "<table border=\"1\" class=\"dataframe\">\n",
       "  <thead>\n",
       "    <tr style=\"text-align: right;\">\n",
       "      <th></th>\n",
       "      <th>Total Players</th>\n",
       "    </tr>\n",
       "  </thead>\n",
       "  <tbody>\n",
       "    <tr>\n",
       "      <th>0</th>\n",
       "      <td>576</td>\n",
       "    </tr>\n",
       "  </tbody>\n",
       "</table>\n",
       "</div>"
      ],
      "text/plain": [
       "   Total Players\n",
       "0            576"
      ]
     },
     "execution_count": 2,
     "metadata": {},
     "output_type": "execute_result"
    }
   ],
   "source": [
    "data_df = pd.DataFrame(purchase_data)\n",
    "players_num =len(pd.unique(data_df['SN']))\n",
    "players_num_df = pd.DataFrame({\"Total Players\":[players_num]})\n",
    "players_num_df"
   ]
  },
  {
   "cell_type": "markdown",
   "id": "fe75a9e4",
   "metadata": {},
   "source": [
    "# Purchasing Analysis (Total)"
   ]
  },
  {
   "cell_type": "code",
   "execution_count": 3,
   "id": "ceff19d9",
   "metadata": {},
   "outputs": [
    {
     "data": {
      "text/html": [
       "<style type=\"text/css\">\n",
       "</style>\n",
       "<table id=\"T_0f017_\">\n",
       "  <thead>\n",
       "    <tr>\n",
       "      <th class=\"blank level0\" >&nbsp;</th>\n",
       "      <th class=\"col_heading level0 col0\" >Number of Unique Items</th>\n",
       "      <th class=\"col_heading level0 col1\" >Average Price</th>\n",
       "      <th class=\"col_heading level0 col2\" >Number of Purchases</th>\n",
       "      <th class=\"col_heading level0 col3\" >Total Revenue</th>\n",
       "    </tr>\n",
       "  </thead>\n",
       "  <tbody>\n",
       "    <tr>\n",
       "      <th id=\"T_0f017_level0_row0\" class=\"row_heading level0 row0\" >0</th>\n",
       "      <td id=\"T_0f017_row0_col0\" class=\"data row0 col0\" >179</td>\n",
       "      <td id=\"T_0f017_row0_col1\" class=\"data row0 col1\" >$3.05</td>\n",
       "      <td id=\"T_0f017_row0_col2\" class=\"data row0 col2\" >780</td>\n",
       "      <td id=\"T_0f017_row0_col3\" class=\"data row0 col3\" >$2,379.77</td>\n",
       "    </tr>\n",
       "  </tbody>\n",
       "</table>\n"
      ],
      "text/plain": [
       "<pandas.io.formats.style.Styler at 0x7f9b9d958670>"
      ]
     },
     "execution_count": 3,
     "metadata": {},
     "output_type": "execute_result"
    }
   ],
   "source": [
    "items_num=len(pd.unique(data_df['Item ID']))\n",
    "avg_price = data_df[\"Price\"].mean()\n",
    "#avg_price = c.format(avg_price)\n",
    "purchase_num = data_df[\"Purchase ID\"].count()\n",
    "total_revenue = data_df[\"Price\"].sum()\n",
    "purchase_summary_df = pd.DataFrame({\"Number of Unique Items\":[items_num],\n",
    "                                    \"Average Price\":[avg_price],\n",
    "                                    \"Number of Purchases\":[purchase_num],\n",
    "                                    \"Total Revenue\":[total_revenue]})\n",
    "purchase_summary_df.style.format({\"Average Price\":\"${:,.2f}\",\n",
    "                                  \"Total Revenue\":\"${:,.2f}\"})"
   ]
  },
  {
   "cell_type": "markdown",
   "id": "c43998c9",
   "metadata": {},
   "source": [
    "# Gender Demographics"
   ]
  },
  {
   "cell_type": "code",
   "execution_count": 4,
   "id": "685e8663",
   "metadata": {},
   "outputs": [
    {
     "data": {
      "text/html": [
       "<style type=\"text/css\">\n",
       "</style>\n",
       "<table id=\"T_82c92_\">\n",
       "  <thead>\n",
       "    <tr>\n",
       "      <th class=\"blank level0\" >&nbsp;</th>\n",
       "      <th class=\"col_heading level0 col0\" >Total Count</th>\n",
       "      <th class=\"col_heading level0 col1\" >Percentage of Players</th>\n",
       "    </tr>\n",
       "  </thead>\n",
       "  <tbody>\n",
       "    <tr>\n",
       "      <th id=\"T_82c92_level0_row0\" class=\"row_heading level0 row0\" >Male</th>\n",
       "      <td id=\"T_82c92_row0_col0\" class=\"data row0 col0\" >484</td>\n",
       "      <td id=\"T_82c92_row0_col1\" class=\"data row0 col1\" >84.03%</td>\n",
       "    </tr>\n",
       "    <tr>\n",
       "      <th id=\"T_82c92_level0_row1\" class=\"row_heading level0 row1\" >Female</th>\n",
       "      <td id=\"T_82c92_row1_col0\" class=\"data row1 col0\" >81</td>\n",
       "      <td id=\"T_82c92_row1_col1\" class=\"data row1 col1\" >14.06%</td>\n",
       "    </tr>\n",
       "    <tr>\n",
       "      <th id=\"T_82c92_level0_row2\" class=\"row_heading level0 row2\" >Other / Non-Disclosed</th>\n",
       "      <td id=\"T_82c92_row2_col0\" class=\"data row2 col0\" >11</td>\n",
       "      <td id=\"T_82c92_row2_col1\" class=\"data row2 col1\" >1.91%</td>\n",
       "    </tr>\n",
       "  </tbody>\n",
       "</table>\n"
      ],
      "text/plain": [
       "<pandas.io.formats.style.Styler at 0x7f9b9e98b0a0>"
      ]
     },
     "execution_count": 4,
     "metadata": {},
     "output_type": "execute_result"
    }
   ],
   "source": [
    "gender_info= data_df.loc[:, ['Gender','SN']]\n",
    "gender_clean = gender_info.drop_duplicates(['SN'])\n",
    "gender_count = gender_clean[\"Gender\"].value_counts()\n",
    "gender_percentage = gender_count / players_num\n",
    "gender_summary_df = pd.DataFrame({\"Total Count\":gender_count,\n",
    "                                  \"Percentage of Players\":gender_percentage})\n",
    "gender_summary_df.style.format({\"Percentage of Players\":\"{:.2%}\"})"
   ]
  },
  {
   "cell_type": "markdown",
   "id": "64f48781",
   "metadata": {},
   "source": [
    "# Purchasing Analysis (Gender)"
   ]
  },
  {
   "cell_type": "code",
   "execution_count": 5,
   "id": "88d0945b",
   "metadata": {},
   "outputs": [
    {
     "data": {
      "text/html": [
       "<style type=\"text/css\">\n",
       "</style>\n",
       "<table id=\"T_d40c0_\">\n",
       "  <thead>\n",
       "    <tr>\n",
       "      <th class=\"blank level0\" >&nbsp;</th>\n",
       "      <th class=\"col_heading level0 col0\" >Purchase Count</th>\n",
       "      <th class=\"col_heading level0 col1\" >Average Purchase Price</th>\n",
       "      <th class=\"col_heading level0 col2\" >Total Purchase Value</th>\n",
       "      <th class=\"col_heading level0 col3\" >Avg Total Purchase per Person</th>\n",
       "    </tr>\n",
       "  </thead>\n",
       "  <tbody>\n",
       "    <tr>\n",
       "      <th id=\"T_d40c0_level0_row0\" class=\"row_heading level0 row0\" >Female</th>\n",
       "      <td id=\"T_d40c0_row0_col0\" class=\"data row0 col0\" >113</td>\n",
       "      <td id=\"T_d40c0_row0_col1\" class=\"data row0 col1\" >$3.20</td>\n",
       "      <td id=\"T_d40c0_row0_col2\" class=\"data row0 col2\" >$361.94</td>\n",
       "      <td id=\"T_d40c0_row0_col3\" class=\"data row0 col3\" >$4.47</td>\n",
       "    </tr>\n",
       "    <tr>\n",
       "      <th id=\"T_d40c0_level0_row1\" class=\"row_heading level0 row1\" >Male</th>\n",
       "      <td id=\"T_d40c0_row1_col0\" class=\"data row1 col0\" >652</td>\n",
       "      <td id=\"T_d40c0_row1_col1\" class=\"data row1 col1\" >$3.02</td>\n",
       "      <td id=\"T_d40c0_row1_col2\" class=\"data row1 col2\" >$1,967.64</td>\n",
       "      <td id=\"T_d40c0_row1_col3\" class=\"data row1 col3\" >$4.07</td>\n",
       "    </tr>\n",
       "    <tr>\n",
       "      <th id=\"T_d40c0_level0_row2\" class=\"row_heading level0 row2\" >Other / Non-Disclosed</th>\n",
       "      <td id=\"T_d40c0_row2_col0\" class=\"data row2 col0\" >15</td>\n",
       "      <td id=\"T_d40c0_row2_col1\" class=\"data row2 col1\" >$3.35</td>\n",
       "      <td id=\"T_d40c0_row2_col2\" class=\"data row2 col2\" >$50.19</td>\n",
       "      <td id=\"T_d40c0_row2_col3\" class=\"data row2 col3\" >$4.56</td>\n",
       "    </tr>\n",
       "  </tbody>\n",
       "</table>\n"
      ],
      "text/plain": [
       "<pandas.io.formats.style.Styler at 0x7f9b9e9957c0>"
      ]
     },
     "execution_count": 5,
     "metadata": {},
     "output_type": "execute_result"
    }
   ],
   "source": [
    "g_purch_df = data_df.loc[:, ['Gender','SN','Price']]\n",
    "g_purch_grp = g_purch_df.groupby(\"Gender\")\n",
    "g_purch_count = g_purch_grp[\"Gender\"].count()\n",
    "g_tot_purch_value = g_purch_grp[\"Price\"].sum()\n",
    "g_avg_purch_price = g_purch_grp[\"Price\"].mean()\n",
    "avg_tot_purch_per = g_tot_purch_value / gender_count \n",
    "purch_analysis = pd.DataFrame({\"Purchase Count\":g_purch_count,\n",
    "                               \"Average Purchase Price\":g_avg_purch_price,\n",
    "                               \"Total Purchase Value\":g_tot_purch_value,\n",
    "                               \"Avg Total Purchase per Person\":avg_tot_purch_per})                               \n",
    "purch_analysis.style.format({\"Average Purchase Price\":\"${:,.2f}\",\n",
    "                             \"Total Purchase Value\":\"${:,.2f}\",\n",
    "                             \"Avg Total Purchase per Person\":\"${:,.2f}\"})"
   ]
  },
  {
   "cell_type": "markdown",
   "id": "a8f43240",
   "metadata": {},
   "source": [
    "# Age Demographics"
   ]
  },
  {
   "cell_type": "code",
   "execution_count": 6,
   "id": "3e39c6fc",
   "metadata": {},
   "outputs": [
    {
     "data": {
      "text/html": [
       "<style type=\"text/css\">\n",
       "</style>\n",
       "<table id=\"T_8c6df_\">\n",
       "  <thead>\n",
       "    <tr>\n",
       "      <th class=\"blank level0\" >&nbsp;</th>\n",
       "      <th class=\"col_heading level0 col0\" >Total Count</th>\n",
       "      <th class=\"col_heading level0 col1\" >Percentage of Players</th>\n",
       "    </tr>\n",
       "  </thead>\n",
       "  <tbody>\n",
       "    <tr>\n",
       "      <th id=\"T_8c6df_level0_row0\" class=\"row_heading level0 row0\" ><10</th>\n",
       "      <td id=\"T_8c6df_row0_col0\" class=\"data row0 col0\" >17</td>\n",
       "      <td id=\"T_8c6df_row0_col1\" class=\"data row0 col1\" >2.95%</td>\n",
       "    </tr>\n",
       "    <tr>\n",
       "      <th id=\"T_8c6df_level0_row1\" class=\"row_heading level0 row1\" >10-14</th>\n",
       "      <td id=\"T_8c6df_row1_col0\" class=\"data row1 col0\" >22</td>\n",
       "      <td id=\"T_8c6df_row1_col1\" class=\"data row1 col1\" >3.82%</td>\n",
       "    </tr>\n",
       "    <tr>\n",
       "      <th id=\"T_8c6df_level0_row2\" class=\"row_heading level0 row2\" >15-19</th>\n",
       "      <td id=\"T_8c6df_row2_col0\" class=\"data row2 col0\" >107</td>\n",
       "      <td id=\"T_8c6df_row2_col1\" class=\"data row2 col1\" >18.58%</td>\n",
       "    </tr>\n",
       "    <tr>\n",
       "      <th id=\"T_8c6df_level0_row3\" class=\"row_heading level0 row3\" >20-24</th>\n",
       "      <td id=\"T_8c6df_row3_col0\" class=\"data row3 col0\" >258</td>\n",
       "      <td id=\"T_8c6df_row3_col1\" class=\"data row3 col1\" >44.79%</td>\n",
       "    </tr>\n",
       "    <tr>\n",
       "      <th id=\"T_8c6df_level0_row4\" class=\"row_heading level0 row4\" >25-29</th>\n",
       "      <td id=\"T_8c6df_row4_col0\" class=\"data row4 col0\" >77</td>\n",
       "      <td id=\"T_8c6df_row4_col1\" class=\"data row4 col1\" >13.37%</td>\n",
       "    </tr>\n",
       "    <tr>\n",
       "      <th id=\"T_8c6df_level0_row5\" class=\"row_heading level0 row5\" >30-34</th>\n",
       "      <td id=\"T_8c6df_row5_col0\" class=\"data row5 col0\" >52</td>\n",
       "      <td id=\"T_8c6df_row5_col1\" class=\"data row5 col1\" >9.03%</td>\n",
       "    </tr>\n",
       "    <tr>\n",
       "      <th id=\"T_8c6df_level0_row6\" class=\"row_heading level0 row6\" >35-39</th>\n",
       "      <td id=\"T_8c6df_row6_col0\" class=\"data row6 col0\" >31</td>\n",
       "      <td id=\"T_8c6df_row6_col1\" class=\"data row6 col1\" >5.38%</td>\n",
       "    </tr>\n",
       "    <tr>\n",
       "      <th id=\"T_8c6df_level0_row7\" class=\"row_heading level0 row7\" >40+</th>\n",
       "      <td id=\"T_8c6df_row7_col0\" class=\"data row7 col0\" >12</td>\n",
       "      <td id=\"T_8c6df_row7_col1\" class=\"data row7 col1\" >2.08%</td>\n",
       "    </tr>\n",
       "  </tbody>\n",
       "</table>\n"
      ],
      "text/plain": [
       "<pandas.io.formats.style.Styler at 0x7f9b9e995e80>"
      ]
     },
     "execution_count": 6,
     "metadata": {},
     "output_type": "execute_result"
    }
   ],
   "source": [
    "age_purch_df = data_df.loc[:, ['Age','SN','Price']]\n",
    "age_purch_df = age_purch_df.drop_duplicates(['SN'])\n",
    "bins=[0,9,14,19,24,29,34,39,999]\n",
    "bin_names=[\"<10\",\"10-14\",\"15-19\",\"20-24\",\"25-29\",\"30-34\",\"35-39\",\"40+\"]\n",
    "pd.cut(age_purch_df[\"Age\"], bins, labels=bin_names).head()\n",
    "age_purch_df[\"Age Bin\"]= pd.cut(age_purch_df[\"Age\"], bins, labels=bin_names, include_lowest = True)\n",
    "age_purch_grp = age_purch_df.groupby(\"Age Bin\")\n",
    "age_purch_count = age_purch_grp[\"Age Bin\"].count()\n",
    "age_purch_perc = age_purch_count / players_num\n",
    "age_summary_df = pd.DataFrame({\"Total Count\":age_purch_count,\n",
    "                               \"Percentage of Players\":age_purch_perc})\n",
    "age_summary_df.index.name = None\n",
    "age_summary_df.style.format({\"Percentage of Players\":\"{:.2%}\"})"
   ]
  },
  {
   "cell_type": "markdown",
   "id": "962f5f32",
   "metadata": {},
   "source": [
    "# Purchasing Analysis (Age)"
   ]
  },
  {
   "cell_type": "code",
   "execution_count": 7,
   "id": "0d9346b5",
   "metadata": {},
   "outputs": [
    {
     "data": {
      "text/html": [
       "<style type=\"text/css\">\n",
       "</style>\n",
       "<table id=\"T_ef2aa_\">\n",
       "  <thead>\n",
       "    <tr>\n",
       "      <th class=\"blank level0\" >&nbsp;</th>\n",
       "      <th class=\"col_heading level0 col0\" >Purchase Count</th>\n",
       "      <th class=\"col_heading level0 col1\" >Average Purchase Price</th>\n",
       "      <th class=\"col_heading level0 col2\" >Total Purchase Value</th>\n",
       "      <th class=\"col_heading level0 col3\" >Avg Total Purchase per Person</th>\n",
       "    </tr>\n",
       "    <tr>\n",
       "      <th class=\"index_name level0\" >Age Ranges</th>\n",
       "      <th class=\"blank col0\" >&nbsp;</th>\n",
       "      <th class=\"blank col1\" >&nbsp;</th>\n",
       "      <th class=\"blank col2\" >&nbsp;</th>\n",
       "      <th class=\"blank col3\" >&nbsp;</th>\n",
       "    </tr>\n",
       "  </thead>\n",
       "  <tbody>\n",
       "    <tr>\n",
       "      <th id=\"T_ef2aa_level0_row0\" class=\"row_heading level0 row0\" ><10</th>\n",
       "      <td id=\"T_ef2aa_row0_col0\" class=\"data row0 col0\" >23</td>\n",
       "      <td id=\"T_ef2aa_row0_col1\" class=\"data row0 col1\" >$3.35</td>\n",
       "      <td id=\"T_ef2aa_row0_col2\" class=\"data row0 col2\" >$77.13</td>\n",
       "      <td id=\"T_ef2aa_row0_col3\" class=\"data row0 col3\" >$4.54</td>\n",
       "    </tr>\n",
       "    <tr>\n",
       "      <th id=\"T_ef2aa_level0_row1\" class=\"row_heading level0 row1\" >10-14</th>\n",
       "      <td id=\"T_ef2aa_row1_col0\" class=\"data row1 col0\" >28</td>\n",
       "      <td id=\"T_ef2aa_row1_col1\" class=\"data row1 col1\" >$2.96</td>\n",
       "      <td id=\"T_ef2aa_row1_col2\" class=\"data row1 col2\" >$82.78</td>\n",
       "      <td id=\"T_ef2aa_row1_col3\" class=\"data row1 col3\" >$3.76</td>\n",
       "    </tr>\n",
       "    <tr>\n",
       "      <th id=\"T_ef2aa_level0_row2\" class=\"row_heading level0 row2\" >15-19</th>\n",
       "      <td id=\"T_ef2aa_row2_col0\" class=\"data row2 col0\" >136</td>\n",
       "      <td id=\"T_ef2aa_row2_col1\" class=\"data row2 col1\" >$3.04</td>\n",
       "      <td id=\"T_ef2aa_row2_col2\" class=\"data row2 col2\" >$412.89</td>\n",
       "      <td id=\"T_ef2aa_row2_col3\" class=\"data row2 col3\" >$3.86</td>\n",
       "    </tr>\n",
       "    <tr>\n",
       "      <th id=\"T_ef2aa_level0_row3\" class=\"row_heading level0 row3\" >20-24</th>\n",
       "      <td id=\"T_ef2aa_row3_col0\" class=\"data row3 col0\" >365</td>\n",
       "      <td id=\"T_ef2aa_row3_col1\" class=\"data row3 col1\" >$3.05</td>\n",
       "      <td id=\"T_ef2aa_row3_col2\" class=\"data row3 col2\" >$1114.06</td>\n",
       "      <td id=\"T_ef2aa_row3_col3\" class=\"data row3 col3\" >$4.32</td>\n",
       "    </tr>\n",
       "    <tr>\n",
       "      <th id=\"T_ef2aa_level0_row4\" class=\"row_heading level0 row4\" >25-29</th>\n",
       "      <td id=\"T_ef2aa_row4_col0\" class=\"data row4 col0\" >101</td>\n",
       "      <td id=\"T_ef2aa_row4_col1\" class=\"data row4 col1\" >$2.90</td>\n",
       "      <td id=\"T_ef2aa_row4_col2\" class=\"data row4 col2\" >$293.00</td>\n",
       "      <td id=\"T_ef2aa_row4_col3\" class=\"data row4 col3\" >$3.81</td>\n",
       "    </tr>\n",
       "    <tr>\n",
       "      <th id=\"T_ef2aa_level0_row5\" class=\"row_heading level0 row5\" >30-34</th>\n",
       "      <td id=\"T_ef2aa_row5_col0\" class=\"data row5 col0\" >73</td>\n",
       "      <td id=\"T_ef2aa_row5_col1\" class=\"data row5 col1\" >$2.93</td>\n",
       "      <td id=\"T_ef2aa_row5_col2\" class=\"data row5 col2\" >$214.00</td>\n",
       "      <td id=\"T_ef2aa_row5_col3\" class=\"data row5 col3\" >$4.12</td>\n",
       "    </tr>\n",
       "    <tr>\n",
       "      <th id=\"T_ef2aa_level0_row6\" class=\"row_heading level0 row6\" >35-39</th>\n",
       "      <td id=\"T_ef2aa_row6_col0\" class=\"data row6 col0\" >41</td>\n",
       "      <td id=\"T_ef2aa_row6_col1\" class=\"data row6 col1\" >$3.60</td>\n",
       "      <td id=\"T_ef2aa_row6_col2\" class=\"data row6 col2\" >$147.67</td>\n",
       "      <td id=\"T_ef2aa_row6_col3\" class=\"data row6 col3\" >$4.76</td>\n",
       "    </tr>\n",
       "    <tr>\n",
       "      <th id=\"T_ef2aa_level0_row7\" class=\"row_heading level0 row7\" >40+</th>\n",
       "      <td id=\"T_ef2aa_row7_col0\" class=\"data row7 col0\" >13</td>\n",
       "      <td id=\"T_ef2aa_row7_col1\" class=\"data row7 col1\" >$2.94</td>\n",
       "      <td id=\"T_ef2aa_row7_col2\" class=\"data row7 col2\" >$38.24</td>\n",
       "      <td id=\"T_ef2aa_row7_col3\" class=\"data row7 col3\" >$3.19</td>\n",
       "    </tr>\n",
       "  </tbody>\n",
       "</table>\n"
      ],
      "text/plain": [
       "<pandas.io.formats.style.Styler at 0x7f9b9e9cde50>"
      ]
     },
     "execution_count": 7,
     "metadata": {},
     "output_type": "execute_result"
    }
   ],
   "source": [
    "a_purch_analysis_df = data_df.loc[:, ['Age','SN','Price','Item ID']]\n",
    "bins=[0,9,14,19,24,29,34,39,999]\n",
    "bin_names=[\"<10\",\"10-14\",\"15-19\",\"20-24\",\"25-29\",\"30-34\",\"35-39\",\"40+\"]\n",
    "pd.cut(a_purch_analysis_df[\"Age\"], bins, labels=bin_names).head()\n",
    "a_purch_analysis_df[\"Age Ranges\"]= pd.cut(a_purch_analysis_df[\"Age\"], bins, labels=bin_names, include_lowest = True)\n",
    "a_purch_analysis_grp = a_purch_analysis_df.groupby(\"Age Ranges\")\n",
    "a_purch_analysis_count = a_purch_analysis_grp[\"Item ID\"].count()\n",
    "a_purch_analysis_avg = a_purch_analysis_grp[\"Price\"].mean()\n",
    "a_purch_analysis_total = a_purch_analysis_grp[\"Price\"].sum()\n",
    "a_purch_analysis_tot_per = a_purch_analysis_total / age_purch_count\n",
    "age_purch_summary_df = pd.DataFrame({\"Purchase Count\":a_purch_analysis_count,\n",
    "                                     \"Average Purchase Price\":a_purch_analysis_avg,\n",
    "                                     \"Total Purchase Value\":a_purch_analysis_total,\n",
    "                                     \"Avg Total Purchase per Person\":a_purch_analysis_tot_per})\n",
    "age_summary_df.index.name = None\n",
    "age_purch_summary_df.style.format({\"Average Purchase Price\":\"${:.2f}\",\n",
    "                                   \"Total Purchase Value\":\"${:.2f}\",\n",
    "                                   \"Avg Total Purchase per Person\":\"${:.2f}\"})"
   ]
  },
  {
   "cell_type": "markdown",
   "id": "f71ced17",
   "metadata": {},
   "source": [
    "# Top Spenders"
   ]
  },
  {
   "cell_type": "code",
   "execution_count": 8,
   "id": "b64b32fa",
   "metadata": {},
   "outputs": [
    {
     "data": {
      "text/html": [
       "<style type=\"text/css\">\n",
       "</style>\n",
       "<table id=\"T_51b34_\">\n",
       "  <thead>\n",
       "    <tr>\n",
       "      <th class=\"blank level0\" >&nbsp;</th>\n",
       "      <th class=\"col_heading level0 col0\" >Purchase Count</th>\n",
       "      <th class=\"col_heading level0 col1\" >Average Purchase Price</th>\n",
       "      <th class=\"col_heading level0 col2\" >Total Purchase Value</th>\n",
       "    </tr>\n",
       "    <tr>\n",
       "      <th class=\"index_name level0\" >SN</th>\n",
       "      <th class=\"blank col0\" >&nbsp;</th>\n",
       "      <th class=\"blank col1\" >&nbsp;</th>\n",
       "      <th class=\"blank col2\" >&nbsp;</th>\n",
       "    </tr>\n",
       "  </thead>\n",
       "  <tbody>\n",
       "    <tr>\n",
       "      <th id=\"T_51b34_level0_row0\" class=\"row_heading level0 row0\" >Lisosia93</th>\n",
       "      <td id=\"T_51b34_row0_col0\" class=\"data row0 col0\" >5</td>\n",
       "      <td id=\"T_51b34_row0_col1\" class=\"data row0 col1\" >$3.79</td>\n",
       "      <td id=\"T_51b34_row0_col2\" class=\"data row0 col2\" >$18.96</td>\n",
       "    </tr>\n",
       "    <tr>\n",
       "      <th id=\"T_51b34_level0_row1\" class=\"row_heading level0 row1\" >Idastidru52</th>\n",
       "      <td id=\"T_51b34_row1_col0\" class=\"data row1 col0\" >4</td>\n",
       "      <td id=\"T_51b34_row1_col1\" class=\"data row1 col1\" >$3.86</td>\n",
       "      <td id=\"T_51b34_row1_col2\" class=\"data row1 col2\" >$15.45</td>\n",
       "    </tr>\n",
       "    <tr>\n",
       "      <th id=\"T_51b34_level0_row2\" class=\"row_heading level0 row2\" >Chamjask73</th>\n",
       "      <td id=\"T_51b34_row2_col0\" class=\"data row2 col0\" >3</td>\n",
       "      <td id=\"T_51b34_row2_col1\" class=\"data row2 col1\" >$4.61</td>\n",
       "      <td id=\"T_51b34_row2_col2\" class=\"data row2 col2\" >$13.83</td>\n",
       "    </tr>\n",
       "    <tr>\n",
       "      <th id=\"T_51b34_level0_row3\" class=\"row_heading level0 row3\" >Iral74</th>\n",
       "      <td id=\"T_51b34_row3_col0\" class=\"data row3 col0\" >4</td>\n",
       "      <td id=\"T_51b34_row3_col1\" class=\"data row3 col1\" >$3.41</td>\n",
       "      <td id=\"T_51b34_row3_col2\" class=\"data row3 col2\" >$13.62</td>\n",
       "    </tr>\n",
       "    <tr>\n",
       "      <th id=\"T_51b34_level0_row4\" class=\"row_heading level0 row4\" >Iskadarya95</th>\n",
       "      <td id=\"T_51b34_row4_col0\" class=\"data row4 col0\" >3</td>\n",
       "      <td id=\"T_51b34_row4_col1\" class=\"data row4 col1\" >$4.37</td>\n",
       "      <td id=\"T_51b34_row4_col2\" class=\"data row4 col2\" >$13.10</td>\n",
       "    </tr>\n",
       "  </tbody>\n",
       "</table>\n"
      ],
      "text/plain": [
       "<pandas.io.formats.style.Styler at 0x7f9b9d941e50>"
      ]
     },
     "execution_count": 8,
     "metadata": {},
     "output_type": "execute_result"
    }
   ],
   "source": [
    "spenders_sn_grp=data_df.groupby([\"SN\"])\n",
    "spenders_sn_grp_count = spenders_sn_grp[\"Purchase ID\"].count()\n",
    "spenders_sn_grp_value = spenders_sn_grp[\"Price\"].sum()\n",
    "spenders_sn_grp_avg = spenders_sn_grp[\"Price\"].mean()\n",
    "topspenders_summary_df = pd.DataFrame({\"Purchase Count\":spenders_sn_grp_count,\n",
    "                                       \"Average Purchase Price\":spenders_sn_grp_avg,\n",
    "                                       \"Total Purchase Value\":spenders_sn_grp_value})\n",
    "topspenders_sorted = topspenders_summary_df.sort_values([\"Total Purchase Value\"], ascending=False)\n",
    "topspenders_head=topspenders_sorted.head()\n",
    "topspenders_head.style.format({\"Average Purchase Price\":\"${:.2f}\",\n",
    "                               \"Total Purchase Value\":\"${:.2f}\"})"
   ]
  },
  {
   "cell_type": "markdown",
   "id": "324cd9d2",
   "metadata": {},
   "source": [
    "# Most Popular Items"
   ]
  },
  {
   "cell_type": "code",
   "execution_count": 9,
   "id": "dfc33723",
   "metadata": {},
   "outputs": [
    {
     "data": {
      "text/html": [
       "<style type=\"text/css\">\n",
       "</style>\n",
       "<table id=\"T_cc17d_\">\n",
       "  <thead>\n",
       "    <tr>\n",
       "      <th class=\"blank\" >&nbsp;</th>\n",
       "      <th class=\"blank level0\" >&nbsp;</th>\n",
       "      <th class=\"col_heading level0 col0\" >Purchase Count</th>\n",
       "      <th class=\"col_heading level0 col1\" >Item Price</th>\n",
       "      <th class=\"col_heading level0 col2\" >Total Purchase Value</th>\n",
       "    </tr>\n",
       "    <tr>\n",
       "      <th class=\"index_name level0\" >Item ID</th>\n",
       "      <th class=\"index_name level1\" >Item Name</th>\n",
       "      <th class=\"blank col0\" >&nbsp;</th>\n",
       "      <th class=\"blank col1\" >&nbsp;</th>\n",
       "      <th class=\"blank col2\" >&nbsp;</th>\n",
       "    </tr>\n",
       "  </thead>\n",
       "  <tbody>\n",
       "    <tr>\n",
       "      <th id=\"T_cc17d_level0_row0\" class=\"row_heading level0 row0\" >92</th>\n",
       "      <th id=\"T_cc17d_level1_row0\" class=\"row_heading level1 row0\" >Final Critic</th>\n",
       "      <td id=\"T_cc17d_row0_col0\" class=\"data row0 col0\" >13</td>\n",
       "      <td id=\"T_cc17d_row0_col1\" class=\"data row0 col1\" >$4.61</td>\n",
       "      <td id=\"T_cc17d_row0_col2\" class=\"data row0 col2\" >$59.99</td>\n",
       "    </tr>\n",
       "    <tr>\n",
       "      <th id=\"T_cc17d_level0_row1\" class=\"row_heading level0 row1\" >178</th>\n",
       "      <th id=\"T_cc17d_level1_row1\" class=\"row_heading level1 row1\" >Oathbreaker, Last Hope of the Breaking Storm</th>\n",
       "      <td id=\"T_cc17d_row1_col0\" class=\"data row1 col0\" >12</td>\n",
       "      <td id=\"T_cc17d_row1_col1\" class=\"data row1 col1\" >$4.23</td>\n",
       "      <td id=\"T_cc17d_row1_col2\" class=\"data row1 col2\" >$50.76</td>\n",
       "    </tr>\n",
       "    <tr>\n",
       "      <th id=\"T_cc17d_level0_row2\" class=\"row_heading level0 row2\" >145</th>\n",
       "      <th id=\"T_cc17d_level1_row2\" class=\"row_heading level1 row2\" >Fiery Glass Crusader</th>\n",
       "      <td id=\"T_cc17d_row2_col0\" class=\"data row2 col0\" >9</td>\n",
       "      <td id=\"T_cc17d_row2_col1\" class=\"data row2 col1\" >$4.58</td>\n",
       "      <td id=\"T_cc17d_row2_col2\" class=\"data row2 col2\" >$41.22</td>\n",
       "    </tr>\n",
       "    <tr>\n",
       "      <th id=\"T_cc17d_level0_row3\" class=\"row_heading level0 row3\" >132</th>\n",
       "      <th id=\"T_cc17d_level1_row3\" class=\"row_heading level1 row3\" >Persuasion</th>\n",
       "      <td id=\"T_cc17d_row3_col0\" class=\"data row3 col0\" >9</td>\n",
       "      <td id=\"T_cc17d_row3_col1\" class=\"data row3 col1\" >$3.22</td>\n",
       "      <td id=\"T_cc17d_row3_col2\" class=\"data row3 col2\" >$28.99</td>\n",
       "    </tr>\n",
       "    <tr>\n",
       "      <th id=\"T_cc17d_level0_row4\" class=\"row_heading level0 row4\" >108</th>\n",
       "      <th id=\"T_cc17d_level1_row4\" class=\"row_heading level1 row4\" >Extraction, Quickblade Of Trembling Hands</th>\n",
       "      <td id=\"T_cc17d_row4_col0\" class=\"data row4 col0\" >9</td>\n",
       "      <td id=\"T_cc17d_row4_col1\" class=\"data row4 col1\" >$3.53</td>\n",
       "      <td id=\"T_cc17d_row4_col2\" class=\"data row4 col2\" >$31.77</td>\n",
       "    </tr>\n",
       "  </tbody>\n",
       "</table>\n"
      ],
      "text/plain": [
       "<pandas.io.formats.style.Styler at 0x7f9b9e98bcd0>"
      ]
     },
     "execution_count": 9,
     "metadata": {},
     "output_type": "execute_result"
    }
   ],
   "source": [
    "pop_items_df = data_df.loc[:, ['Item ID','Item Name','Price']]\n",
    "pop_items_grp = pop_items_df.groupby([\"Item ID\", \"Item Name\"])\n",
    "pop_items_grp_count = pop_items_grp[\"Item ID\"].count()\n",
    "pop_items_grp_value = pop_items_grp[\"Price\"].sum()\n",
    "pop_items_grp_avg = pop_items_grp[\"Price\"].mean()\n",
    "pop_items_summary_df = pd.DataFrame({\"Purchase Count\":pop_items_grp_count,\n",
    "                                     \"Item Price\":pop_items_grp_avg,\n",
    "                                     \"Total Purchase Value\":pop_items_grp_value})\n",
    "pop_items_sorted = pop_items_summary_df.sort_values([\"Purchase Count\"], ascending = False)\n",
    "pop_items_head = pop_items_sorted.head()\n",
    "pop_items_head.style.format({\"Item Price\":\"${:.2f}\",\n",
    "                             \"Total Purchase Value\":\"${:.2f}\"})"
   ]
  },
  {
   "cell_type": "markdown",
   "id": "51105332",
   "metadata": {},
   "source": [
    "# Most Profitable Items"
   ]
  },
  {
   "cell_type": "code",
   "execution_count": 10,
   "id": "96379386",
   "metadata": {},
   "outputs": [
    {
     "data": {
      "text/html": [
       "<style type=\"text/css\">\n",
       "</style>\n",
       "<table id=\"T_d2def_\">\n",
       "  <thead>\n",
       "    <tr>\n",
       "      <th class=\"blank\" >&nbsp;</th>\n",
       "      <th class=\"blank level0\" >&nbsp;</th>\n",
       "      <th class=\"col_heading level0 col0\" >Purchase Count</th>\n",
       "      <th class=\"col_heading level0 col1\" >Item Price</th>\n",
       "      <th class=\"col_heading level0 col2\" >Total Purchase Value</th>\n",
       "    </tr>\n",
       "    <tr>\n",
       "      <th class=\"index_name level0\" >Item ID</th>\n",
       "      <th class=\"index_name level1\" >Item Name</th>\n",
       "      <th class=\"blank col0\" >&nbsp;</th>\n",
       "      <th class=\"blank col1\" >&nbsp;</th>\n",
       "      <th class=\"blank col2\" >&nbsp;</th>\n",
       "    </tr>\n",
       "  </thead>\n",
       "  <tbody>\n",
       "    <tr>\n",
       "      <th id=\"T_d2def_level0_row0\" class=\"row_heading level0 row0\" >92</th>\n",
       "      <th id=\"T_d2def_level1_row0\" class=\"row_heading level1 row0\" >Final Critic</th>\n",
       "      <td id=\"T_d2def_row0_col0\" class=\"data row0 col0\" >13</td>\n",
       "      <td id=\"T_d2def_row0_col1\" class=\"data row0 col1\" >$4.61</td>\n",
       "      <td id=\"T_d2def_row0_col2\" class=\"data row0 col2\" >$59.99</td>\n",
       "    </tr>\n",
       "    <tr>\n",
       "      <th id=\"T_d2def_level0_row1\" class=\"row_heading level0 row1\" >178</th>\n",
       "      <th id=\"T_d2def_level1_row1\" class=\"row_heading level1 row1\" >Oathbreaker, Last Hope of the Breaking Storm</th>\n",
       "      <td id=\"T_d2def_row1_col0\" class=\"data row1 col0\" >12</td>\n",
       "      <td id=\"T_d2def_row1_col1\" class=\"data row1 col1\" >$4.23</td>\n",
       "      <td id=\"T_d2def_row1_col2\" class=\"data row1 col2\" >$50.76</td>\n",
       "    </tr>\n",
       "    <tr>\n",
       "      <th id=\"T_d2def_level0_row2\" class=\"row_heading level0 row2\" >82</th>\n",
       "      <th id=\"T_d2def_level1_row2\" class=\"row_heading level1 row2\" >Nirvana</th>\n",
       "      <td id=\"T_d2def_row2_col0\" class=\"data row2 col0\" >9</td>\n",
       "      <td id=\"T_d2def_row2_col1\" class=\"data row2 col1\" >$4.90</td>\n",
       "      <td id=\"T_d2def_row2_col2\" class=\"data row2 col2\" >$44.10</td>\n",
       "    </tr>\n",
       "    <tr>\n",
       "      <th id=\"T_d2def_level0_row3\" class=\"row_heading level0 row3\" >145</th>\n",
       "      <th id=\"T_d2def_level1_row3\" class=\"row_heading level1 row3\" >Fiery Glass Crusader</th>\n",
       "      <td id=\"T_d2def_row3_col0\" class=\"data row3 col0\" >9</td>\n",
       "      <td id=\"T_d2def_row3_col1\" class=\"data row3 col1\" >$4.58</td>\n",
       "      <td id=\"T_d2def_row3_col2\" class=\"data row3 col2\" >$41.22</td>\n",
       "    </tr>\n",
       "    <tr>\n",
       "      <th id=\"T_d2def_level0_row4\" class=\"row_heading level0 row4\" >103</th>\n",
       "      <th id=\"T_d2def_level1_row4\" class=\"row_heading level1 row4\" >Singed Scalpel</th>\n",
       "      <td id=\"T_d2def_row4_col0\" class=\"data row4 col0\" >8</td>\n",
       "      <td id=\"T_d2def_row4_col1\" class=\"data row4 col1\" >$4.35</td>\n",
       "      <td id=\"T_d2def_row4_col2\" class=\"data row4 col2\" >$34.80</td>\n",
       "    </tr>\n",
       "  </tbody>\n",
       "</table>\n"
      ],
      "text/plain": [
       "<pandas.io.formats.style.Styler at 0x7f9b9e9a75e0>"
      ]
     },
     "execution_count": 10,
     "metadata": {},
     "output_type": "execute_result"
    }
   ],
   "source": [
    "pop_values_sorted = pop_items_summary_df.sort_values([\"Total Purchase Value\"], ascending = False)\n",
    "pop_values_head = pop_values_sorted.head()\n",
    "pop_values_head.style.format({\"Item Price\":\"${:.2f}\",\n",
    "                              \"Total Purchase Value\":\"${:.2f}\"})"
   ]
  }
 ],
 "metadata": {
  "kernelspec": {
   "display_name": "Python 3 (ipykernel)",
   "language": "python",
   "name": "python3"
  },
  "language_info": {
   "codemirror_mode": {
    "name": "ipython",
    "version": 3
   },
   "file_extension": ".py",
   "mimetype": "text/x-python",
   "name": "python",
   "nbconvert_exporter": "python",
   "pygments_lexer": "ipython3",
   "version": "3.8.8"
  }
 },
 "nbformat": 4,
 "nbformat_minor": 5
}
