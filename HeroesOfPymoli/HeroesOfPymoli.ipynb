{
 "cells": [
  {
   "cell_type": "markdown",
   "id": "22ed9d8a",
   "metadata": {},
   "source": [
    "### Dependencies and Setup"
   ]
  },
  {
   "cell_type": "code",
   "execution_count": 7,
   "id": "a40618a5",
   "metadata": {},
   "outputs": [],
   "source": [
    "import os\n",
    "import csv\n",
    "import pandas as pd\n",
    "\n",
    "#csvpath = os.path.join(\"Resources\",\"purchase_data.csv\")\n",
    "csvpath = \"/Users/lorenamartinez/utsa_boot_camp/homework/4_PandasChallenge/pandas-challenge/Resources/purchase_data.csv\"\n",
    "\n",
    "purchase_data = pd.read_csv(csvpath)"
   ]
  },
  {
   "cell_type": "markdown",
   "id": "a960a8b2",
   "metadata": {},
   "source": [
    "### Player Count"
   ]
  },
  {
   "cell_type": "code",
   "execution_count": 8,
   "id": "b642ccf5",
   "metadata": {},
   "outputs": [
    {
     "name": "stdout",
     "output_type": "stream",
     "text": [
      "Total number of players: 576\n"
     ]
    }
   ],
   "source": [
    "data_df = pd.DataFrame(purchase_data)\n",
    "players_num =len(pd.unique(data_df['SN']))\n",
    "print(\"Total number of players:\", players_num)"
   ]
  },
  {
   "cell_type": "markdown",
   "id": "6d465770",
   "metadata": {},
   "source": [
    "### Purchasing Analysis (Total)"
   ]
  },
  {
   "cell_type": "code",
   "execution_count": 28,
   "id": "f4935fcb",
   "metadata": {},
   "outputs": [
    {
     "name": "stdout",
     "output_type": "stream",
     "text": [
      "Total number of unique: 179\n",
      "Total number average price: $3.05\n",
      "Total number of purchases: 780\n",
      "Total revenue is:  $2,379.77\n"
     ]
    },
    {
     "data": {
      "text/html": [
       "<div>\n",
       "<style scoped>\n",
       "    .dataframe tbody tr th:only-of-type {\n",
       "        vertical-align: middle;\n",
       "    }\n",
       "\n",
       "    .dataframe tbody tr th {\n",
       "        vertical-align: top;\n",
       "    }\n",
       "\n",
       "    .dataframe thead th {\n",
       "        text-align: right;\n",
       "    }\n",
       "</style>\n",
       "<table border=\"1\" class=\"dataframe\">\n",
       "  <thead>\n",
       "    <tr style=\"text-align: right;\">\n",
       "      <th></th>\n",
       "      <th>Number of Unique Items</th>\n",
       "      <th>Average Price</th>\n",
       "      <th>Number of Purchases</th>\n",
       "      <th>Total Revenue</th>\n",
       "    </tr>\n",
       "  </thead>\n",
       "  <tbody>\n",
       "    <tr>\n",
       "      <th>0</th>\n",
       "      <td>179</td>\n",
       "      <td>$3.05</td>\n",
       "      <td>780</td>\n",
       "      <td>$2,379.77</td>\n",
       "    </tr>\n",
       "  </tbody>\n",
       "</table>\n",
       "</div>"
      ],
      "text/plain": [
       "   Number of Unique Items Average Price  Number of Purchases Total Revenue\n",
       "0                     179         $3.05                  780     $2,379.77"
      ]
     },
     "execution_count": 28,
     "metadata": {},
     "output_type": "execute_result"
    }
   ],
   "source": [
    "items_num=len(pd.unique(data_df['Item ID']))\n",
    "print(\"Total number of unique:\", items_num)\n",
    "avg_price = data_df[\"Price\"].mean()\n",
    "avg_price = \"${:,.2f}\".format(avg_price)\n",
    "print(\"Total number average price:\", avg_price)\n",
    "purchase_num = data_df[\"Purchase ID\"].count()\n",
    "print (\"Total number of purchases:\", purchase_num)\n",
    "total_revenue = data_df[\"Price\"].sum()\n",
    "total_revenue = \"${:,.2f}\".format(total_revenue)\n",
    "print(\"Total revenue is: \", total_revenue)\n",
    "purchase_summary_df = pd.DataFrame({\"Number of Unique Items\":[items_num],\n",
    "                                    \"Average Price\":[avg_price],\n",
    "                                    \"Number of Purchases\":[purchase_num],\n",
    "                                    \"Total Revenue\":[total_revenue]})\n",
    "purchase_summary_df"
   ]
  },
  {
   "cell_type": "code",
   "execution_count": null,
   "id": "67005b5e",
   "metadata": {},
   "outputs": [],
   "source": []
  }
 ],
 "metadata": {
  "kernelspec": {
   "display_name": "Python 3 (ipykernel)",
   "language": "python",
   "name": "python3"
  },
  "language_info": {
   "codemirror_mode": {
    "name": "ipython",
    "version": 3
   },
   "file_extension": ".py",
   "mimetype": "text/x-python",
   "name": "python",
   "nbconvert_exporter": "python",
   "pygments_lexer": "ipython3",
   "version": "3.8.8"
  }
 },
 "nbformat": 4,
 "nbformat_minor": 5
}
